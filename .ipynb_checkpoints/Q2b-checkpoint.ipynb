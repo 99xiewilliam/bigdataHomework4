{
 "cells": [
  {
   "cell_type": "code",
   "execution_count": 33,
   "id": "2ee665d4",
   "metadata": {},
   "outputs": [],
   "source": [
    "import numpy as np\n",
    "import pandas as pd\n",
    "import matplotlib.pyplot as plt\n",
    "import heapq\n",
    "from sklearn.decomposition import PCA\n",
    "from sklearn.preprocessing import StandardScaler"
   ]
  },
  {
   "cell_type": "code",
   "execution_count": 34,
   "id": "10956457",
   "metadata": {},
   "outputs": [
    {
     "name": "stdout",
     "output_type": "stream",
     "text": [
      "(60000, 784)\n"
     ]
    }
   ],
   "source": [
    "data = pd.read_csv('trainImage.txt', header=None)\n",
    "print(data.shape)\n",
    "df = data.values"
   ]
  },
  {
   "cell_type": "code",
   "execution_count": 49,
   "id": "2ce79233",
   "metadata": {},
   "outputs": [],
   "source": [
    "def pca_my(n_components, df):\n",
    "#     X = StandardScaler().fit_transform(data)\n",
    "#     pca = PCA(n_components)\n",
    "#     X_pca = pca.fit_transform(X)\n",
    "    Mat_new = df - np.mean(df, axis=0)\n",
    "    C = np.dot(Mat_new.T, Mat_new) / (Mat_new.shape[0] - 1)\n",
    "    print(C)\n",
    "    eig_vals, eig_vecs = np.linalg.eig(C)\n",
    "    #largestIndexes = map(list(eig_vals).index, heapq.nlargest(n_components, range(eig_vals), eig_vals))\n",
    "    largestIndexes = np.argsort(eig_vals)[::-1][:n_components]\n",
    "    print(largestIndexes)\n",
    "    X_pca = np.dot(Mat_new, eig_vecs[:,largestIndexes])\n",
    "    return eig_vecs[:,largestIndexes], X_pca"
   ]
  },
  {
   "cell_type": "code",
   "execution_count": 50,
   "id": "32476062",
   "metadata": {},
   "outputs": [
    {
     "name": "stdout",
     "output_type": "stream",
     "text": [
      "[[0. 0. 0. ... 0. 0. 0.]\n",
      " [0. 0. 0. ... 0. 0. 0.]\n",
      " [0. 0. 0. ... 0. 0. 0.]\n",
      " ...\n",
      " [0. 0. 0. ... 0. 0. 0.]\n",
      " [0. 0. 0. ... 0. 0. 0.]\n",
      " [0. 0. 0. ... 0. 0. 0.]]\n",
      "[ 0  1  2  3  4  5  6  7  8  9 10 11 12 13 14 15 16 17 18 19]\n"
     ]
    }
   ],
   "source": [
    "eig_vecs, X_pca = pca_my(20, df)\n",
    "\n",
    "\n",
    "np.savetxt('123.txt', eig_vecs.T)"
   ]
  },
  {
   "cell_type": "code",
   "execution_count": 51,
   "id": "26c430b3",
   "metadata": {},
   "outputs": [],
   "source": [
    "np.savetxt('trainImageNew.txt', X_pca)"
   ]
  },
  {
   "cell_type": "code",
   "execution_count": null,
   "id": "c475dafa",
   "metadata": {},
   "outputs": [],
   "source": []
  }
 ],
 "metadata": {
  "kernelspec": {
   "display_name": "Python 3 (ipykernel)",
   "language": "python",
   "name": "python3"
  },
  "language_info": {
   "codemirror_mode": {
    "name": "ipython",
    "version": 3
   },
   "file_extension": ".py",
   "mimetype": "text/x-python",
   "name": "python",
   "nbconvert_exporter": "python",
   "pygments_lexer": "ipython3",
   "version": "3.7.11"
  }
 },
 "nbformat": 4,
 "nbformat_minor": 5
}
