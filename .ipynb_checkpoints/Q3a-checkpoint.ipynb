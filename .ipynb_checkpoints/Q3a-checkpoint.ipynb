{
 "cells": [
  {
   "cell_type": "code",
   "execution_count": 10,
   "id": "8600d93f",
   "metadata": {},
   "outputs": [],
   "source": [
    "import numpy as np\n"
   ]
  },
  {
   "cell_type": "code",
   "execution_count": 11,
   "id": "c21b810b",
   "metadata": {},
   "outputs": [],
   "source": [
    "def similarity(list1, list2, common_list1, common_list2):\n",
    "    a_list1 = np.array(list1)\n",
    "    a_list2 = np.array(list2)\n",
    "    common_list1 = np.array(common_list1)\n",
    "    common_list2 = np.array(common_list2)\n",
    "    \n",
    "    sum1 = np.sum((common_list1 - np.mean(a_list1))*(common_list2 - np.mean(a_list2)))\n",
    "    sum2 = np.sqrt(np.sum((a_list1 - np.mean(a_list1))*(a_list1 - np.mean(a_list1)))) * np.sqrt(np.sum((a_list2 - np.mean(a_list2))*(a_list2 - np.mean(a_list2))))\n",
    "    result = sum1 / sum2\n",
    "    return result\n",
    "\n"
   ]
  },
  {
   "cell_type": "code",
   "execution_count": 12,
   "id": "fa082065",
   "metadata": {},
   "outputs": [
    {
     "name": "stdout",
     "output_type": "stream",
     "text": [
      "0.3077287274483319\n"
     ]
    }
   ],
   "source": [
    "A = [2,5,2]\n",
    "B = [1,2,3,4]\n",
    "C = [5,4,4,1]\n",
    "D = [4,3,1,5]\n",
    "E = [3,5,4,3]\n",
    "F = [4,2,2]\n",
    "\n",
    "common_list1 = [3,4]\n",
    "common_list2 = [2,5]\n",
    "\n",
    "result = similarity(E, A, common_list1, common_list2)\n",
    "print(result)"
   ]
  },
  {
   "cell_type": "code",
   "execution_count": null,
   "id": "9e78b731",
   "metadata": {},
   "outputs": [],
   "source": [
    "common_list1 = [3,4]\n",
    "common_list2 = [2,5]\n",
    "\n",
    "result = similarity(E, B, common_list1, common_list2)"
   ]
  }
 ],
 "metadata": {
  "kernelspec": {
   "display_name": "Python 3 (ipykernel)",
   "language": "python",
   "name": "python3"
  },
  "language_info": {
   "codemirror_mode": {
    "name": "ipython",
    "version": 3
   },
   "file_extension": ".py",
   "mimetype": "text/x-python",
   "name": "python",
   "nbconvert_exporter": "python",
   "pygments_lexer": "ipython3",
   "version": "3.7.11"
  }
 },
 "nbformat": 4,
 "nbformat_minor": 5
}
