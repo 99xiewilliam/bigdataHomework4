{
 "cells": [
  {
   "cell_type": "code",
   "execution_count": 27,
   "id": "449211fc",
   "metadata": {},
   "outputs": [],
   "source": [
    "import numpy as np\n"
   ]
  },
  {
   "cell_type": "code",
   "execution_count": 34,
   "id": "b9e90c4b",
   "metadata": {},
   "outputs": [],
   "source": [
    "def similarity(list1, list2, common_list1, common_list2):\n",
    "    a_list1 = np.array(list1)\n",
    "    a_list2 = np.array(list2)\n",
    "    common_list1 = np.array(common_list1)\n",
    "    common_list2 = np.array(common_list2)\n",
    "    print(a_list1 - np.mean(a_list1))\n",
    "    print(common_list2 - np.mean(a_list2))\n",
    "    \n",
    "    sum1 = np.sum((common_list1 - np.mean(a_list1))*(common_list2 - np.mean(a_list2)))\n",
    "    sum2 = np.sqrt(np.sum((a_list1 - np.mean(a_list1))*(a_list1 - np.mean(a_list1)))) * np.sqrt(np.sum((a_list2 - np.mean(a_list2))*(a_list2 - np.mean(a_list2))))\n",
    "    result = sum1 / sum2\n",
    "    return result\n",
    "\n"
   ]
  },
  {
   "cell_type": "code",
   "execution_count": 32,
   "id": "34709ee2",
   "metadata": {},
   "outputs": [
    {
     "name": "stdout",
     "output_type": "stream",
     "text": [
      "[-0.75  1.25  0.25 -0.75]\n",
      "0.3077287274483319\n"
     ]
    }
   ],
   "source": [
    "A = [2,5,2]\n",
    "B = [1,2,3,4]\n",
    "C = [5,4,4,1]\n",
    "D = [4,3,1,5]\n",
    "E = [3,5,4,3]\n",
    "F = [4,2,2]\n",
    "\n",
    "common_list1 = [3,4]\n",
    "common_list2 = [2,5]\n",
    "\n",
    "result = similarity(E, A, common_list1, common_list2)\n",
    "print(result)"
   ]
  },
  {
   "cell_type": "code",
   "execution_count": 13,
   "id": "3a368cdb",
   "metadata": {},
   "outputs": [
    {
     "name": "stdout",
     "output_type": "stream",
     "text": [
      "-0.1685499656158105\n"
     ]
    }
   ],
   "source": [
    "common_list1 = [3,5,3]\n",
    "common_list2 = [1,2,4]\n",
    "\n",
    "result = similarity(E, B, common_list1, common_list2)\n",
    "print(result)"
   ]
  },
  {
   "cell_type": "code",
   "execution_count": 14,
   "id": "da95cd1a",
   "metadata": {},
   "outputs": [
    {
     "name": "stdout",
     "output_type": "stream",
     "text": [
      "0.17588161767036212\n"
     ]
    }
   ],
   "source": [
    "common_list1 = [3,4,3]\n",
    "common_list2 = [5,4,1]\n",
    "\n",
    "result = similarity(E, C, common_list1, common_list2)\n",
    "print(result)"
   ]
  },
  {
   "cell_type": "code",
   "execution_count": 15,
   "id": "565960b5",
   "metadata": {},
   "outputs": [
    {
     "name": "stdout",
     "output_type": "stream",
     "text": [
      "-0.2930471350766347\n"
     ]
    }
   ],
   "source": [
    "common_list1 = [3,5,4]\n",
    "common_list2 = [4,3,1]\n",
    "\n",
    "result = similarity(E, D, common_list1, common_list2)\n",
    "print(result)"
   ]
  },
  {
   "cell_type": "code",
   "execution_count": 16,
   "id": "8b826abf",
   "metadata": {},
   "outputs": [
    {
     "name": "stdout",
     "output_type": "stream",
     "text": [
      "0.7385489458759966\n"
     ]
    }
   ],
   "source": [
    "common_list1 = [5,4,3]\n",
    "common_list2 = [4,2,2]\n",
    "\n",
    "result = similarity(E, F, common_list1, common_list2)\n",
    "print(result)"
   ]
  },
  {
   "cell_type": "code",
   "execution_count": 17,
   "id": "9f7a3e12",
   "metadata": {},
   "outputs": [],
   "source": [
    "def forcastStar(similar, stars):\n",
    "    stars = np.array(stars)\n",
    "    similar = np.array(similar)\n",
    "    \n",
    "    sum1 = np.sum(stars * similar)\n",
    "    sum2 = np.sum(similar)\n",
    "    \n",
    "    r = sum1 / sum2\n",
    "    \n",
    "    return r"
   ]
  },
  {
   "cell_type": "code",
   "execution_count": 19,
   "id": "a36e6009",
   "metadata": {},
   "outputs": [
    {
     "name": "stdout",
     "output_type": "stream",
     "text": [
      "2.727369128661608\n"
     ]
    }
   ],
   "source": [
    "similar = [0.3077287274483319,0.17588161767036212]\n",
    "stars = [2, 4]\n",
    "\n",
    "r = forcastStar(similar, stars)\n",
    "print(r)"
   ]
  },
  {
   "cell_type": "code",
   "execution_count": 33,
   "id": "0412b20f",
   "metadata": {},
   "outputs": [
    {
     "name": "stdout",
     "output_type": "stream",
     "text": [
      "[-1.5 -0.5  0.5  1.5]\n",
      "0.7071067811865475\n"
     ]
    }
   ],
   "source": [
    "U1 = [2,1,5,4,3]\n",
    "U2 = [2,3,5,4]\n",
    "U3 = [5,4,1,4,2]\n",
    "U4 = [2,3,4,5]\n",
    "U5 = [4,1,3,2]\n",
    "\n",
    "common_list1 = [2,3,4,5]\n",
    "common_list2 = [2,1,5,4]\n",
    "\n",
    "result = similarity(U4, U1, common_list1, common_list2)\n",
    "print(result)"
   ]
  },
  {
   "cell_type": "code",
   "execution_count": 21,
   "id": "4c7a92cb",
   "metadata": {},
   "outputs": [
    {
     "name": "stdout",
     "output_type": "stream",
     "text": [
      "0.0\n"
     ]
    }
   ],
   "source": [
    "common_list1 = [3,5]\n",
    "common_list2 = [2,3]\n",
    "\n",
    "result = similarity(U4, U2, common_list1, common_list2)\n",
    "print(result)"
   ]
  },
  {
   "cell_type": "code",
   "execution_count": 22,
   "id": "1f6d55b1",
   "metadata": {},
   "outputs": [
    {
     "name": "stdout",
     "output_type": "stream",
     "text": [
      "-0.7620634755325442\n"
     ]
    }
   ],
   "source": [
    "common_list1 = [2,4,5]\n",
    "common_list2 = [5,4,1]\n",
    "\n",
    "result = similarity(U4, U3, common_list1, common_list2)\n",
    "print(result)"
   ]
  },
  {
   "cell_type": "code",
   "execution_count": 23,
   "id": "e3792260",
   "metadata": {},
   "outputs": [
    {
     "name": "stdout",
     "output_type": "stream",
     "text": [
      "-0.29999999999999993\n"
     ]
    }
   ],
   "source": [
    "common_list1 = [3,4]\n",
    "common_list2 = [4,1]\n",
    "\n",
    "result = similarity(U4, U5, common_list1, common_list2)\n",
    "print(result)"
   ]
  },
  {
   "cell_type": "code",
   "execution_count": 24,
   "id": "cdd270e0",
   "metadata": {},
   "outputs": [
    {
     "name": "stdout",
     "output_type": "stream",
     "text": [
      "3.0\n"
     ]
    }
   ],
   "source": [
    "similar = [0.7071067811865475,0.0]\n",
    "stars = [3, 5]\n",
    "\n",
    "r = forcastStar(similar, stars)\n",
    "print(r)"
   ]
  },
  {
   "cell_type": "code",
   "execution_count": 25,
   "id": "b2d2d6a1",
   "metadata": {},
   "outputs": [
    {
     "name": "stdout",
     "output_type": "stream",
     "text": [
      "0.9999999999999998\n"
     ]
    }
   ],
   "source": [
    "common_list1 = [2,3,4,5]\n",
    "common_list2 = [2,3,4,5]\n",
    "\n",
    "result = similarity(U4, U4, common_list1, common_list2)\n",
    "print(result)"
   ]
  },
  {
   "cell_type": "code",
   "execution_count": null,
   "id": "473658c6",
   "metadata": {},
   "outputs": [],
   "source": []
  }
 ],
 "metadata": {
  "kernelspec": {
   "display_name": "Python 3 (ipykernel)",
   "language": "python",
   "name": "python3"
  },
  "language_info": {
   "codemirror_mode": {
    "name": "ipython",
    "version": 3
   },
   "file_extension": ".py",
   "mimetype": "text/x-python",
   "name": "python",
   "nbconvert_exporter": "python",
   "pygments_lexer": "ipython3",
   "version": "3.7.11"
  }
 },
 "nbformat": 4,
 "nbformat_minor": 5
}
