{
 "cells": [
  {
   "cell_type": "code",
   "execution_count": 40,
   "id": "9549bfb6",
   "metadata": {},
   "outputs": [],
   "source": [
    "import numpy as np\n",
    "import matplotlib.pyplot as plt\n",
    "from sklearn.decomposition import PCA"
   ]
  },
  {
   "cell_type": "code",
   "execution_count": 41,
   "id": "8e9342af",
   "metadata": {},
   "outputs": [],
   "source": [
    "def PCA_my(matrix):\n",
    "    Mat = np.array(matrix, dtype='float64')\n",
    "    Mat_new = Mat - np.mean(Mat, axis=0)\n",
    "    C = np.dot(Mat_new.T, Mat_new) / (Mat_new.shape[0] - 1)\n",
    "    print(C)\n",
    "    eig_vals, eig_vecs = np.linalg.eig(C)\n",
    "    print(eig_vals)\n",
    "    print(eig_vecs)\n",
    "    X_pca = np.dot(Mat_new, eig_vecs[:,[0,2]])\n",
    "    print(X_pca)\n",
    "    return X_pca\n",
    "    "
   ]
  },
  {
   "cell_type": "code",
   "execution_count": 42,
   "id": "44567d27",
   "metadata": {},
   "outputs": [
    {
     "name": "stdout",
     "output_type": "stream",
     "text": [
      "[[ 5.71428571  0.42857143  0.          1.07142857]\n",
      " [ 0.42857143  2.28571429 -2.42857143  0.21428571]\n",
      " [ 0.         -2.42857143  5.64285714 -4.75      ]\n",
      " [ 1.07142857  0.21428571 -4.75        9.26785714]]\n",
      "[12.89585928  0.26863669  5.71538172  4.0308366 ]\n",
      "[[-0.12780057 -0.11898487  0.97211863 -0.15650874]\n",
      " [-0.15218062  0.72052968 -0.04053778 -0.67530343]\n",
      " [ 0.5720931   0.6053769   0.23031693  0.50317234]\n",
      " [-0.79574968  0.31654129  0.01720953  0.5160309 ]]\n",
      "[[ 0.48440395  1.36096911]\n",
      " [ 4.98056271 -0.29939832]\n",
      " [ 3.50007071  0.85560307]\n",
      " [-4.8378072   2.24656574]\n",
      " [-4.97940267 -2.20082773]\n",
      " [ 0.03554522 -4.6443123 ]\n",
      " [ 1.89934265  0.27335587]\n",
      " [-1.08271537  2.40804457]]\n"
     ]
    }
   ],
   "source": [
    "matrix = [[7,4,3,4],[4,1,8,3],[6,3,5,2],[8,3,2,10],[4,5,0,9],[1,3,2,5],[6,6,3,2],[8,3,3,6]]\n",
    "\n",
    "X_pca = PCA_my(matrix)"
   ]
  },
  {
   "cell_type": "code",
   "execution_count": 29,
   "id": "50c10ad7",
   "metadata": {},
   "outputs": [
    {
     "data": {
      "text/plain": [
       "array([[ 0.48440395, -1.36096911],\n",
       "       [ 4.98056271,  0.29939832],\n",
       "       [ 3.50007071, -0.85560307],\n",
       "       [-4.8378072 , -2.24656574],\n",
       "       [-4.97940267,  2.20082773],\n",
       "       [ 0.03554522,  4.6443123 ],\n",
       "       [ 1.89934265, -0.27335587],\n",
       "       [-1.08271537, -2.40804457]])"
      ]
     },
     "execution_count": 29,
     "metadata": {},
     "output_type": "execute_result"
    }
   ],
   "source": [
    "pca = PCA(2)\n",
    "pca.fit_transform(matrix)"
   ]
  },
  {
   "cell_type": "code",
   "execution_count": 30,
   "id": "2552a25e",
   "metadata": {},
   "outputs": [],
   "source": [
    "def PCA_SVD(matrix):\n",
    "    Mat = np.array(matrix, dtype='float64')\n",
    "    Mat_new = Mat - np.mean(Mat, axis=0)\n",
    "    U, Sigma, Vh = np.linalg.svd(Mat_new, full_matrices=False, compute_uv=True)\n",
    "    print(np.square(Sigma) / (Mat_new.shape[0] - 1))\n",
    "    X_pca_svd = np.dot(Mat_new, Vh.T[:, [0, 1]])\n",
    "    print(X_pca_svd)\n",
    "    \n",
    "    "
   ]
  },
  {
   "cell_type": "code",
   "execution_count": 31,
   "id": "e6d9fa97",
   "metadata": {},
   "outputs": [
    {
     "name": "stdout",
     "output_type": "stream",
     "text": [
      "[12.89585928  5.71538172  4.0308366   0.26863669]\n",
      "[[ 0.48440395  1.36096911]\n",
      " [ 4.98056271 -0.29939832]\n",
      " [ 3.50007071  0.85560307]\n",
      " [-4.8378072   2.24656574]\n",
      " [-4.97940267 -2.20082773]\n",
      " [ 0.03554522 -4.6443123 ]\n",
      " [ 1.89934265  0.27335587]\n",
      " [-1.08271537  2.40804457]]\n"
     ]
    }
   ],
   "source": [
    "PCA_SVD(matrix)"
   ]
  },
  {
   "cell_type": "code",
   "execution_count": 32,
   "id": "1174c03a",
   "metadata": {},
   "outputs": [
    {
     "name": "stderr",
     "output_type": "stream",
     "text": [
      "No handles with labels found to put in legend.\n"
     ]
    },
    {
     "data": {
      "image/png": "[encoded data removed]",
      "text/plain": [
       "<Figure size 432x288 with 1 Axes>"
      ]
     },
     "metadata": {
      "needs_background": "light"
     },
     "output_type": "display_data"
    }
   ],
   "source": [
    "plt.figure()\n",
    "for i in X_pca:\n",
    "    plt.scatter(i[0], i[1], alpha=.7)\n",
    "    \n",
    "plt.legend()\n",
    "plt.title('PCA of the matrix')\n",
    "plt.show()"
   ]
  },
  {
   "cell_type": "code",
   "execution_count": null,
   "id": "abbfd7c6",
   "metadata": {},
   "outputs": [],
   "source": []
  }
 ],
 "metadata": {
  "kernelspec": {
   "display_name": "Python 3 (ipykernel)",
   "language": "python",
   "name": "python3"
  },
  "language_info": {
   "codemirror_mode": {
    "name": "ipython",
    "version": 3
   },
   "file_extension": ".py",
   "mimetype": "text/x-python",
   "name": "python",
   "nbconvert_exporter": "python",
   "pygments_lexer": "ipython3",
   "version": "3.7.11"
  }
 },
 "nbformat": 4,
 "nbformat_minor": 5
}
