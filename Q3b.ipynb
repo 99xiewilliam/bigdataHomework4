{
 "cells": [
  {
   "cell_type": "code",
   "execution_count": 82,
   "id": "9a4a5599",
   "metadata": {},
   "outputs": [],
   "source": [
    "import numpy\n",
    "\n",
    "def matrix_factorization(R, P, Q, K, steps=5000, alpha=0.0002, beta=0.02):\n",
    "    Q = Q.T\n",
    "    for step in range(steps):\n",
    "        for i in range(len(R)):\n",
    "            for j in range(len(R[i])):\n",
    "                if R[i][j] > 0:\n",
    "                    eij = R[i][j] - numpy.dot(P[i,:],Q[:,j])\n",
    "                    for k in range(K):\n",
    "                        temp0 = P[i][k] + alpha * (2 * eij * Q[k][j] - beta * P[i][k])\n",
    "                        temp1 = Q[k][j] + alpha * (2 * eij * P[i][k] - beta * Q[k][j])\n",
    "                        P[i][k] = temp0\n",
    "                        Q[k][j] = temp1\n",
    "                        \n",
    "        eR = numpy.dot(P,Q)\n",
    "        e = 0\n",
    "        for i in range(len(R)):\n",
    "            for j in range(len(R[i])):\n",
    "                if R[i][j] > 0:\n",
    "                    e = e + pow(R[i][j] - numpy.dot(P[i,:],Q[:,j]), 2)\n",
    "                    for k in range(K):\n",
    "                        e = e + (beta/2) * (pow(P[i][k],2) + pow(Q[k][j],2))\n",
    "        if e < 0.001:\n",
    "            break\n",
    "    return P, Q.T"
   ]
  },
  {
   "cell_type": "code",
   "execution_count": 83,
   "id": "785aa136",
   "metadata": {},
   "outputs": [],
   "source": [
    "R = [\n",
    "     [2,1,5,4,3,0],\n",
    "     [0,2,0,3,5,4],\n",
    "     [5,0,4,1,4,2],\n",
    "     [2,3,4,5,0,0],\n",
    "     [0,4,1,0,3,2],\n",
    "    ]\n",
    "\n",
    "R = numpy.array(R)\n",
    "\n",
    "N = len(R)\n",
    "M = len(R[0])\n",
    "K = 2\n",
    "\n",
    "P = numpy.random.rand(N,K)\n",
    "Q = numpy.random.rand(M,K)\n",
    "\n",
    "nP, nQ = matrix_factorization(R, P, Q, K)\n",
    "nR = numpy.dot(nP, nQ.T)"
   ]
  },
  {
   "cell_type": "code",
   "execution_count": 84,
   "id": "ce50b132",
   "metadata": {},
   "outputs": [
    {
     "data": {
      "text/plain": [
       "array([[ 2.47952034,  1.58952856,  3.99980399,  3.3419179 ,  3.9815245 ,\n",
       "         3.03393516],\n",
       "       [ 3.40242292,  1.52893333,  4.99203049,  3.72903908,  4.81063933,\n",
       "         3.61895654],\n",
       "       [ 4.76762038, -1.14632558,  4.49135764,  0.90520958,  3.44903982,\n",
       "         2.32683725],\n",
       "       [ 1.75290044,  3.00556099,  4.26029985,  4.83456096,  4.69836051,\n",
       "         3.71509973],\n",
       "       [-1.48261948,  3.9249084 ,  1.31991077,  4.40598806,  2.49922126,\n",
       "         2.25399156]])"
      ]
     },
     "execution_count": 84,
     "metadata": {},
     "output_type": "execute_result"
    }
   ],
   "source": [
    "nR"
   ]
  },
  {
   "cell_type": "code",
   "execution_count": null,
   "id": "c835d09e",
   "metadata": {},
   "outputs": [],
   "source": []
  },
  {
   "cell_type": "code",
   "execution_count": null,
   "id": "14e55f56",
   "metadata": {},
   "outputs": [],
   "source": []
  }
 ],
 "metadata": {
  "kernelspec": {
   "display_name": "Python 3 (ipykernel)",
   "language": "python",
   "name": "python3"
  },
  "language_info": {
   "codemirror_mode": {
    "name": "ipython",
    "version": 3
   },
   "file_extension": ".py",
   "mimetype": "text/x-python",
   "name": "python",
   "nbconvert_exporter": "python",
   "pygments_lexer": "ipython3",
   "version": "3.7.11"
  }
 },
 "nbformat": 4,
 "nbformat_minor": 5
}
